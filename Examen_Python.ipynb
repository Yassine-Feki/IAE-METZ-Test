{
  "nbformat": 4,
  "nbformat_minor": 0,
  "metadata": {
    "colab": {
      "provenance": [],
      "authorship_tag": "ABX9TyNSh1u9hd8a1FHlQkjZzzXn",
      "include_colab_link": true
    },
    "kernelspec": {
      "name": "python3",
      "display_name": "Python 3"
    },
    "language_info": {
      "name": "python"
    }
  },
  "cells": [
    {
      "cell_type": "markdown",
      "metadata": {
        "id": "view-in-github",
        "colab_type": "text"
      },
      "source": [
        "<a href=\"https://colab.research.google.com/github/Yassine-Feki/IAE-METZ-Test/blob/main/Examen_Python.ipynb\" target=\"_parent\"><img src=\"https://colab.research.google.com/assets/colab-badge.svg\" alt=\"Open In Colab\"/></a>"
      ]
    },
    {
      "cell_type": "code",
      "source": [
        "import pandas as pd\n",
        "import numpy as np\n",
        "import matplotlib.pyplot as plt\n",
        "import yfinance as yf"
      ],
      "metadata": {
        "id": "7tdI5fBqqqex"
      },
      "execution_count": 73,
      "outputs": []
    },
    {
      "cell_type": "code",
      "source": [
        "\n",
        "\n",
        "# Définition d'un fonds Small caps  et du fonds Larg caps\n",
        "funds_Small_FRA = [\"0P0000L1MW.F\"]  #Fonds Small caps français\n",
        "funds_Small_LUX = [\"0P0001D3JX.F\"]  # Fonds Small caps Luxembourgeois\n",
        "\n",
        "# Liste complète des fonds à récupérer\n",
        "all_funds = funds_Small_FRA + funds_Small_LUX\n",
        "\n",
        "# Téléchargement des données sur 5 ans (prix ajusté à la clôture)\n",
        "funds_Small_FRA = yf.download(funds_Small_FRA, start=\"2023-01-01\", end=\"2025-01-01\")[\"Close\"]\n",
        "funds_Small_LUX = yf.download(funds_Small_LUX, start=\"2023-01-01\", end=\"2025-01-01\")[\"Close\"]\n",
        "\n",
        "print(funds_Small_FRA.columns)\n",
        "\n",
        "print(funds_Small_LUX.columns)\n",
        "\n",
        "\n",
        "\n"
      ],
      "metadata": {
        "colab": {
          "base_uri": "https://localhost:8080/"
        },
        "id": "Eg9KZP_hrE1D",
        "outputId": "9f85ecdf-88ff-4f1f-95ff-303310647e0a"
      },
      "execution_count": 136,
      "outputs": [
        {
          "output_type": "stream",
          "name": "stderr",
          "text": [
            "[*********************100%***********************]  1 of 1 completed\n",
            "[*********************100%***********************]  1 of 1 completed"
          ]
        },
        {
          "output_type": "stream",
          "name": "stdout",
          "text": [
            "Index(['0P0000L1MW.F'], dtype='object', name='Ticker')\n",
            "Index(['0P0001D3JX.F'], dtype='object', name='Ticker')\n"
          ]
        },
        {
          "output_type": "stream",
          "name": "stderr",
          "text": [
            "\n"
          ]
        }
      ]
    },
    {
      "cell_type": "code",
      "source": [
        "print(\"\\nAperçu des prix des fonds :\")\n",
        "print(funds_Small_LUX)\n",
        "print(funds_Small_FRA)"
      ],
      "metadata": {
        "colab": {
          "base_uri": "https://localhost:8080/"
        },
        "id": "1UlZbqTIrRMo",
        "outputId": "fef7ef46-b3b8-4712-cb2f-23567ec5b0d4"
      },
      "execution_count": 138,
      "outputs": [
        {
          "output_type": "stream",
          "name": "stdout",
          "text": [
            "\n",
            "Aperçu des prix des fonds :\n",
            "Ticker      0P0001D3JX.F\n",
            "Date                    \n",
            "2023-01-02     36.180000\n",
            "2023-01-03     36.020000\n",
            "2023-01-04     36.389999\n",
            "2023-01-05     36.820000\n",
            "2023-01-06     36.790001\n",
            "...                  ...\n",
            "2024-12-19     43.590000\n",
            "2024-12-20     44.180000\n",
            "2024-12-23     44.060001\n",
            "2024-12-27     44.279999\n",
            "2024-12-30     44.169998\n",
            "\n",
            "[484 rows x 1 columns]\n",
            "Ticker      0P0000L1MW.F\n",
            "Date                    \n",
            "2023-01-02    261.510010\n",
            "2023-01-03    266.790009\n",
            "2023-01-04    267.489990\n",
            "2023-01-05    269.510010\n",
            "2023-01-06    268.230011\n",
            "...                  ...\n",
            "2024-12-19    278.989990\n",
            "2024-12-20    275.089996\n",
            "2024-12-23    277.320007\n",
            "2024-12-27    279.720001\n",
            "2024-12-30    279.179993\n",
            "\n",
            "[482 rows x 1 columns]\n"
          ]
        }
      ]
    },
    {
      "cell_type": "code",
      "source": [
        "fund_data.isnull().sum()"
      ],
      "metadata": {
        "colab": {
          "base_uri": "https://localhost:8080/",
          "height": 178
        },
        "id": "vL-_O65xzX-T",
        "outputId": "800aa81c-1e34-43e5-e6a8-97fc966699a0"
      },
      "execution_count": 139,
      "outputs": [
        {
          "output_type": "execute_result",
          "data": {
            "text/plain": [
              "Ticker\n",
              "0P0000L1MW.F    6\n",
              "0P0001D3JX.F    4\n",
              "dtype: int64"
            ],
            "text/html": [
              "<div>\n",
              "<style scoped>\n",
              "    .dataframe tbody tr th:only-of-type {\n",
              "        vertical-align: middle;\n",
              "    }\n",
              "\n",
              "    .dataframe tbody tr th {\n",
              "        vertical-align: top;\n",
              "    }\n",
              "\n",
              "    .dataframe thead th {\n",
              "        text-align: right;\n",
              "    }\n",
              "</style>\n",
              "<table border=\"1\" class=\"dataframe\">\n",
              "  <thead>\n",
              "    <tr style=\"text-align: right;\">\n",
              "      <th></th>\n",
              "      <th>0</th>\n",
              "    </tr>\n",
              "    <tr>\n",
              "      <th>Ticker</th>\n",
              "      <th></th>\n",
              "    </tr>\n",
              "  </thead>\n",
              "  <tbody>\n",
              "    <tr>\n",
              "      <th>0P0000L1MW.F</th>\n",
              "      <td>6</td>\n",
              "    </tr>\n",
              "    <tr>\n",
              "      <th>0P0001D3JX.F</th>\n",
              "      <td>4</td>\n",
              "    </tr>\n",
              "  </tbody>\n",
              "</table>\n",
              "</div><br><label><b>dtype:</b> int64</label>"
            ]
          },
          "metadata": {},
          "execution_count": 139
        }
      ]
    },
    {
      "cell_type": "code",
      "source": [
        "fund_data_clean = fund_data.dropna()\n",
        "print(fund_data_clean)\n",
        "fund_data_clean.isnull().sum()\n"
      ],
      "metadata": {
        "colab": {
          "base_uri": "https://localhost:8080/",
          "height": 439
        },
        "id": "gG-DtDjUzuJ2",
        "outputId": "c0128b30-828c-466d-fc36-078f53a5c723"
      },
      "execution_count": 140,
      "outputs": [
        {
          "output_type": "stream",
          "name": "stdout",
          "text": [
            "Ticker      0P0000L1MW.F  0P0001D3JX.F\n",
            "Date                                  \n",
            "2023-01-02    261.510010     36.180000\n",
            "2023-01-03    266.790009     36.020000\n",
            "2023-01-04    267.489990     36.389999\n",
            "2023-01-05    269.510010     36.820000\n",
            "2023-01-06    268.230011     36.790001\n",
            "...                  ...           ...\n",
            "2024-12-19    278.989990     43.590000\n",
            "2024-12-20    275.089996     44.180000\n",
            "2024-12-23    277.320007     44.060001\n",
            "2024-12-27    279.720001     44.279999\n",
            "2024-12-30    279.179993     44.169998\n",
            "\n",
            "[478 rows x 2 columns]\n"
          ]
        },
        {
          "output_type": "execute_result",
          "data": {
            "text/plain": [
              "Ticker\n",
              "0P0000L1MW.F    0\n",
              "0P0001D3JX.F    0\n",
              "dtype: int64"
            ],
            "text/html": [
              "<div>\n",
              "<style scoped>\n",
              "    .dataframe tbody tr th:only-of-type {\n",
              "        vertical-align: middle;\n",
              "    }\n",
              "\n",
              "    .dataframe tbody tr th {\n",
              "        vertical-align: top;\n",
              "    }\n",
              "\n",
              "    .dataframe thead th {\n",
              "        text-align: right;\n",
              "    }\n",
              "</style>\n",
              "<table border=\"1\" class=\"dataframe\">\n",
              "  <thead>\n",
              "    <tr style=\"text-align: right;\">\n",
              "      <th></th>\n",
              "      <th>0</th>\n",
              "    </tr>\n",
              "    <tr>\n",
              "      <th>Ticker</th>\n",
              "      <th></th>\n",
              "    </tr>\n",
              "  </thead>\n",
              "  <tbody>\n",
              "    <tr>\n",
              "      <th>0P0000L1MW.F</th>\n",
              "      <td>0</td>\n",
              "    </tr>\n",
              "    <tr>\n",
              "      <th>0P0001D3JX.F</th>\n",
              "      <td>0</td>\n",
              "    </tr>\n",
              "  </tbody>\n",
              "</table>\n",
              "</div><br><label><b>dtype:</b> int64</label>"
            ]
          },
          "metadata": {},
          "execution_count": 140
        }
      ]
    },
    {
      "cell_type": "code",
      "source": [
        "funds_Small_FRA_returns = funds_Small_FRA.pct_change().dropna()\n",
        "print (funds_Small_FRA_returns)\n",
        "funds_Small_LUX_returns = funds_Small_LUX.pct_change().dropna()\n",
        "print (funds_Small_LUX_returns)"
      ],
      "metadata": {
        "colab": {
          "base_uri": "https://localhost:8080/"
        },
        "id": "QPV8tNiez10B",
        "outputId": "a3a99472-a729-439f-9a30-99aa24d990b6"
      },
      "execution_count": 144,
      "outputs": [
        {
          "output_type": "stream",
          "name": "stdout",
          "text": [
            "Ticker      0P0000L1MW.F\n",
            "Date                    \n",
            "2023-01-05     -3.158799\n",
            "2023-01-06     -1.867240\n",
            "2023-01-09      2.254740\n",
            "2023-01-10     -0.829933\n",
            "2023-01-11     -5.203653\n",
            "...                  ...\n",
            "2024-12-19    -48.660581\n",
            "2024-12-20     -0.982866\n",
            "2024-12-23    -11.463242\n",
            "2024-12-27     -1.042769\n",
            "2024-12-30    -19.100595\n",
            "\n",
            "[479 rows x 1 columns]\n",
            "Ticker      0P0001D3JX.F\n",
            "Date                    \n",
            "2023-01-04     -3.322768\n",
            "2023-01-05      0.150350\n",
            "2023-01-06     -1.068950\n",
            "2023-01-09    -21.350762\n",
            "2023-01-10     -0.935500\n",
            "...                  ...\n",
            "2024-12-19     -0.212892\n",
            "2024-12-20     -2.086264\n",
            "2024-12-23     -1.200672\n",
            "2024-12-27     -2.838321\n",
            "2024-12-30     -1.497524\n",
            "\n",
            "[482 rows x 1 columns]\n"
          ]
        }
      ]
    },
    {
      "cell_type": "code",
      "source": [
        "funds_Small_FRA_returns.plot()"
      ],
      "metadata": {
        "colab": {
          "base_uri": "https://localhost:8080/",
          "height": 450
        },
        "id": "QpZDnwRy1BdD",
        "outputId": "b39afdde-14c2-43d2-9f3f-6d3a245ed901"
      },
      "execution_count": 156,
      "outputs": [
        {
          "output_type": "execute_result",
          "data": {
            "text/plain": [
              "<Axes: xlabel='Date'>"
            ]
          },
          "metadata": {},
          "execution_count": 156
        },
        {
          "output_type": "display_data",
          "data": {
            "text/plain": [
              "<Figure size 640x480 with 1 Axes>"
            ],
            "image/png": "[encoded data removed]"
          },
          "metadata": {}
        }
      ]
    }
  ]
}